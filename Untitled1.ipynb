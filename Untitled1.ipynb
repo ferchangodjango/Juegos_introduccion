{
 "cells": [
  {
   "cell_type": "code",
   "execution_count": 165,
   "id": "a439f016",
   "metadata": {},
   "outputs": [],
   "source": [
    "import pygame"
   ]
  },
  {
   "cell_type": "code",
   "execution_count": 166,
   "id": "247a539e",
   "metadata": {},
   "outputs": [],
   "source": [
    "x=900\n",
    "y=600\n",
    "screen=pygame.display.set_mode((x,y))\n",
    "pygame.display.set_caption(\"Moviendo imagenes\")"
   ]
  },
  {
   "cell_type": "code",
   "execution_count": 167,
   "id": "fc1ae170",
   "metadata": {},
   "outputs": [],
   "source": [
    "\n",
    "black=0,0,0\n",
    "white=255,255,255\n",
    "run=True\n",
    "clock1=pygame.time.Clock()\n",
    "background=pygame.image.load(\"C:/Users/almarfe002/Documents/GamesPython/Juegos_introduccion/night_space.jpg\").convert()\n",
    "player1=pygame.image.load(\"C:/Users/almarfe002/Documents/GamesPython/Juegos_introduccion/Nave5.png\").convert()\n",
    "player1_final=pygame.transform.scale(player1,(100,100))\n",
    "player1_final_final=pygame.transform.rotate(player1_final,90)\n",
    "player1_final_final.set_colorkey([246,246,246])\n",
    "\n",
    "#player1_final.set_colorkey([0,0,0])"
   ]
  },
  {
   "cell_type": "code",
   "execution_count": 168,
   "id": "dab68466",
   "metadata": {},
   "outputs": [],
   "source": [
    "while run:\n",
    "    for event in pygame.event.get():\n",
    "        if event.type==pygame.QUIT:\n",
    "            run=False\n",
    "    \n",
    "    mouse_poss=pygame.mouse.get_pos()\n",
    "    x=mouse_poss[0]\n",
    "    y=mouse_poss[1]\n",
    "    \n",
    "    screen.blit(background,[-100,0])\n",
    "    screen.blit(player1_final_final,[x,y])\n",
    "    pygame.display.flip()\n",
    "    \n",
    "    \n",
    "    clock1.tick(60)\n",
    "    \n",
    "    "
   ]
  },
  {
   "cell_type": "code",
   "execution_count": 169,
   "id": "904e6835",
   "metadata": {},
   "outputs": [],
   "source": [
    "pygame.quit()"
   ]
  },
  {
   "cell_type": "code",
   "execution_count": null,
   "id": "12628739",
   "metadata": {},
   "outputs": [],
   "source": []
  },
  {
   "cell_type": "code",
   "execution_count": null,
   "id": "2f5d9baa",
   "metadata": {},
   "outputs": [],
   "source": []
  }
 ],
 "metadata": {
  "kernelspec": {
   "display_name": "Python 3",
   "language": "python",
   "name": "python3"
  },
  "language_info": {
   "codemirror_mode": {
    "name": "ipython",
    "version": 3
   },
   "file_extension": ".py",
   "mimetype": "text/x-python",
   "name": "python",
   "nbconvert_exporter": "python",
   "pygments_lexer": "ipython3",
   "version": "3.8.8"
  }
 },
 "nbformat": 4,
 "nbformat_minor": 5
}
