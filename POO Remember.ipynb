{
 "cells": [
  {
   "cell_type": "code",
   "execution_count": 49,
   "id": "4a88045e",
   "metadata": {},
   "outputs": [],
   "source": [
    "from math import pi"
   ]
  },
  {
   "cell_type": "markdown",
   "id": "fa096bb5",
   "metadata": {},
   "source": [
    "# POO Remember"
   ]
  },
  {
   "cell_type": "code",
   "execution_count": 20,
   "id": "476c9521",
   "metadata": {},
   "outputs": [],
   "source": [
    "class Coocky:\n",
    "    def __init__(self,name,shape,chips='Chocolate'):\n",
    "        self.name=name\n",
    "        self.shape=shape\n",
    "        self.chips=chips\n",
    "    def bake(self):\n",
    "        print(f\"La galleta de {self.name} es en forma de {self.shape} y tiene chispas de {self.chips}\")\n",
    "        "
   ]
  },
  {
   "cell_type": "code",
   "execution_count": 23,
   "id": "d02fe34c",
   "metadata": {},
   "outputs": [],
   "source": [
    "cocki1=Coocky(\"Chocolate\",\"Estrella\")"
   ]
  },
  {
   "cell_type": "code",
   "execution_count": 24,
   "id": "a3b1b132",
   "metadata": {},
   "outputs": [
    {
     "name": "stdout",
     "output_type": "stream",
     "text": [
      "La galleta de Chocolate es en forma de Estrella y tiene chispas de Chocolate\n"
     ]
    }
   ],
   "source": [
    "cocki1.bake()"
   ]
  },
  {
   "cell_type": "markdown",
   "id": "b60bf24b",
   "metadata": {},
   "source": [
    "# Calculando el area de figuras geometricas"
   ]
  },
  {
   "cell_type": "code",
   "execution_count": 25,
   "id": "b22b9df6",
   "metadata": {},
   "outputs": [],
   "source": [
    "#Como queremos calcular el área de cualquier figura(RECTANGULO,CUADRADO,TRIANGULO,CIRCULO,HEXAGONO REGULAR\n",
    "#) creamos una clase que tenga elementos comunes y despues heredamos atributos y metodos\n",
    "\n",
    "class shape:\n",
    "    def __init__(self,side1,side2):\n",
    "        self.side1=side1\n",
    "        self.side2=side2    \n",
    "    def get_area(self):\n",
    "        return self.side1*self.side2\n",
    "    def __str__(self):\n",
    "        return f\"El área de la figura {self.__class__.__name__} es : {self.get_area()}\""
   ]
  },
  {
   "cell_type": "markdown",
   "id": "11be42f2",
   "metadata": {},
   "source": [
    "## Herencia"
   ]
  },
  {
   "cell_type": "code",
   "execution_count": 26,
   "id": "8ced5241",
   "metadata": {},
   "outputs": [],
   "source": [
    "class rectangulo(shape):#Checa para heredar atributos y metodos de una super_clase, encerramos en parentesis la clase que hereda.\n",
    "    pass    "
   ]
  },
  {
   "cell_type": "code",
   "execution_count": null,
   "id": "4de1032d",
   "metadata": {},
   "outputs": [],
   "source": [
    "class cuadrado(rectangulo):\n",
    "    def __init__(self,side):#Modificamos los atributos, pero el metodo es el mismo que en la superclase\n",
    "        super().__init__(side,side)"
   ]
  },
  {
   "cell_type": "code",
   "execution_count": 47,
   "id": "1058e95b",
   "metadata": {},
   "outputs": [],
   "source": [
    "class triangulo(rectangulo):\n",
    "    def __init__(self,base,height):\n",
    "        super().__init__(base,height)\n",
    "    def get_area(self):\n",
    "        area=super().get_area()\n",
    "        return area/2"
   ]
  },
  {
   "cell_type": "code",
   "execution_count": 50,
   "id": "90546a3c",
   "metadata": {},
   "outputs": [],
   "source": [
    "class circulo(shape):\n",
    "    def __init__(self,radio):\n",
    "        self.radio=radio\n",
    "    def get_area(self):\n",
    "        return pi*self.radio**2"
   ]
  },
  {
   "cell_type": "code",
   "execution_count": 51,
   "id": "e3ad54f9",
   "metadata": {},
   "outputs": [
    {
     "data": {
      "text/plain": [
       "12.566370614359172"
      ]
     },
     "execution_count": 51,
     "metadata": {},
     "output_type": "execute_result"
    }
   ],
   "source": [
    "Figura1=circulo(2)\n",
    "Figura1.get_area()"
   ]
  },
  {
   "cell_type": "code",
   "execution_count": null,
   "id": "3fc38fce",
   "metadata": {},
   "outputs": [],
   "source": []
  }
 ],
 "metadata": {
  "kernelspec": {
   "display_name": "Python 3 (ipykernel)",
   "language": "python",
   "name": "python3"
  },
  "language_info": {
   "codemirror_mode": {
    "name": "ipython",
    "version": 3
   },
   "file_extension": ".py",
   "mimetype": "text/x-python",
   "name": "python",
   "nbconvert_exporter": "python",
   "pygments_lexer": "ipython3",
   "version": "3.10.1"
  },
  "toc": {
   "base_numbering": 1,
   "nav_menu": {},
   "number_sections": true,
   "sideBar": true,
   "skip_h1_title": false,
   "title_cell": "Table of Contents",
   "title_sidebar": "Contents",
   "toc_cell": false,
   "toc_position": {},
   "toc_section_display": true,
   "toc_window_display": false
  }
 },
 "nbformat": 4,
 "nbformat_minor": 5
}
