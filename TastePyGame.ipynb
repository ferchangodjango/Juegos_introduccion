{
 "cells": [
  {
   "cell_type": "code",
   "execution_count": 1,
   "id": "d68d5bd6",
   "metadata": {},
   "outputs": [
    {
     "name": "stdout",
     "output_type": "stream",
     "text": [
      "pygame 2.5.2 (SDL 2.28.3, Python 3.8.8)\n",
      "Hello from the pygame community. https://www.pygame.org/contribute.html\n"
     ]
    }
   ],
   "source": [
    "import sys, pygame"
   ]
  },
  {
   "cell_type": "code",
   "execution_count": 2,
   "id": "19a73e73",
   "metadata": {},
   "outputs": [
    {
     "data": {
      "text/plain": [
       "(5, 0)"
      ]
     },
     "execution_count": 2,
     "metadata": {},
     "output_type": "execute_result"
    }
   ],
   "source": [
    "#Inicializando el pygame\n",
    "pygame.init()"
   ]
  },
  {
   "cell_type": "code",
   "execution_count": 3,
   "id": "752f8727",
   "metadata": {},
   "outputs": [],
   "source": [
    "#Definiendo parametros de los elementos que compondran a la animación\n",
    "size=width,height=520,540\n",
    "speed=[2,2]#Lista\n",
    "black=0,0,0#RGB"
   ]
  },
  {
   "cell_type": "code",
   "execution_count": 4,
   "id": "26cfeece",
   "metadata": {},
   "outputs": [],
   "source": [
    "#Definiendo objeto ventana, que se mostrara al usuario\n",
    "screen=pygame.display.set_mode(size)"
   ]
  },
  {
   "cell_type": "code",
   "execution_count": 5,
   "id": "8c651e70",
   "metadata": {},
   "outputs": [],
   "source": [
    "#\n",
    "ball=pygame.image.load(\"ball.jfif\")"
   ]
  },
  {
   "cell_type": "code",
   "execution_count": 6,
   "id": "5153e498",
   "metadata": {},
   "outputs": [],
   "source": [
    "ballrect=ball.get_rect()"
   ]
  },
  {
   "cell_type": "code",
   "execution_count": 7,
   "id": "66194d82",
   "metadata": {},
   "outputs": [
    {
     "ename": "SystemExit",
     "evalue": "",
     "output_type": "error",
     "traceback": [
      "An exception has occurred, use %tb to see the full traceback.\n",
      "\u001b[1;31mSystemExit\u001b[0m\n"
     ]
    },
    {
     "name": "stderr",
     "output_type": "stream",
     "text": [
      "C:\\Users\\almarfe002\\Anaconda3\\lib\\site-packages\\IPython\\core\\interactiveshell.py:3445: UserWarning: To exit: use 'exit', 'quit', or Ctrl-D.\n",
      "  warn(\"To exit: use 'exit', 'quit', or Ctrl-D.\", stacklevel=1)\n"
     ]
    }
   ],
   "source": [
    "while True:\n",
    "    for event in pygame.event.get():\n",
    "        if event.type == pygame.QUIT : sys.exit()\n",
    "        ballrect=ballrect.move(speed)\n",
    "        if ballrect.left<0 or ballrect.right>width:\n",
    "            speed[0]=-speed[0]\n",
    "        if ballrect.top<0 or ballrect.bottom>height:\n",
    "            speed[1]=-speed[1]\n",
    "        screen.fill(black)\n",
    "        screen.blit(ball,ballrect)\n",
    "        pygame.display.flip()"
   ]
  },
  {
   "cell_type": "code",
   "execution_count": null,
   "id": "77aecad5",
   "metadata": {},
   "outputs": [],
   "source": []
  },
  {
   "cell_type": "code",
   "execution_count": null,
   "id": "f10c40c9",
   "metadata": {},
   "outputs": [],
   "source": []
  }
 ],
 "metadata": {
  "kernelspec": {
   "display_name": "Python 3",
   "language": "python",
   "name": "python3"
  },
  "language_info": {
   "codemirror_mode": {
    "name": "ipython",
    "version": 3
   },
   "file_extension": ".py",
   "mimetype": "text/x-python",
   "name": "python",
   "nbconvert_exporter": "python",
   "pygments_lexer": "ipython3",
   "version": "3.8.8"
  }
 },
 "nbformat": 4,
 "nbformat_minor": 5
}
