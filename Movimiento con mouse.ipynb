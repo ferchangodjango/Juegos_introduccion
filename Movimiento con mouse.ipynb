{
 "cells": [
  {
   "cell_type": "code",
   "execution_count": 40,
   "id": "13fe3d43",
   "metadata": {},
   "outputs": [],
   "source": [
    "import pygame\n",
    "import random"
   ]
  },
  {
   "cell_type": "code",
   "execution_count": 41,
   "id": "95b520d3",
   "metadata": {},
   "outputs": [
    {
     "data": {
      "text/plain": [
       "(5, 0)"
      ]
     },
     "execution_count": 41,
     "metadata": {},
     "output_type": "execute_result"
    }
   ],
   "source": [
    "pygame.init()"
   ]
  },
  {
   "cell_type": "code",
   "execution_count": 42,
   "id": "c7e46078",
   "metadata": {},
   "outputs": [],
   "source": [
    "screen=pygame.display.set_mode((500,500))\n",
    "pygame.display.set_caption(\"movimiento con mouse\")\n"
   ]
  },
  {
   "cell_type": "code",
   "execution_count": 43,
   "id": "3d4d226b",
   "metadata": {},
   "outputs": [],
   "source": [
    "\n",
    "widht=100\n",
    "height=100\n",
    "white=250,250,250\n",
    "black=0,0,0\n",
    "speed=1\n",
    "run=True\n",
    "clock1=pygame.time.Clock()#Definiendo el reloj interno del juego, que entre muchas cosas definira\n",
    "                          #los fotogramas por segundo a los cuales el juego correra."
   ]
  },
  {
   "cell_type": "code",
   "execution_count": 44,
   "id": "93f896e5",
   "metadata": {},
   "outputs": [],
   "source": [
    "while run:\n",
    "    for event in pygame.event.get():\n",
    "        if event.type==pygame.QUIT:\n",
    "            run=False\n",
    "        \n",
    "        mouse_pos=pygame.mouse.get_pos()\n",
    "        #print(mouse_pos[1])\n",
    "        screen.fill(black)\n",
    "        #Object definition\n",
    "        pygame.draw.rect(screen,white,(mouse_pos[0],mouse_pos[1],widht,height))\n",
    "        pygame.display.update()\n",
    "        clock1.tick(60)\n",
    "        "
   ]
  },
  {
   "cell_type": "code",
   "execution_count": 45,
   "id": "7cde9f66",
   "metadata": {},
   "outputs": [],
   "source": [
    "pygame.quit()"
   ]
  },
  {
   "cell_type": "code",
   "execution_count": null,
   "id": "d24fa03a",
   "metadata": {},
   "outputs": [],
   "source": []
  }
 ],
 "metadata": {
  "kernelspec": {
   "display_name": "Python 3 (ipykernel)",
   "language": "python",
   "name": "python3"
  },
  "language_info": {
   "codemirror_mode": {
    "name": "ipython",
    "version": 3
   },
   "file_extension": ".py",
   "mimetype": "text/x-python",
   "name": "python",
   "nbconvert_exporter": "python",
   "pygments_lexer": "ipython3",
   "version": "3.10.1"
  },
  "toc": {
   "base_numbering": 1,
   "nav_menu": {},
   "number_sections": true,
   "sideBar": true,
   "skip_h1_title": false,
   "title_cell": "Table of Contents",
   "title_sidebar": "Contents",
   "toc_cell": false,
   "toc_position": {},
   "toc_section_display": true,
   "toc_window_display": false
  }
 },
 "nbformat": 4,
 "nbformat_minor": 5
}
