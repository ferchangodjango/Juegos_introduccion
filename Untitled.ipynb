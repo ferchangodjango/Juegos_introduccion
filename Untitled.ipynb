{
 "cells": [
  {
   "cell_type": "code",
   "execution_count": 179,
   "id": "bf3c72ea",
   "metadata": {},
   "outputs": [],
   "source": [
    "import pygame"
   ]
  },
  {
   "cell_type": "code",
   "execution_count": 180,
   "id": "260f9840",
   "metadata": {},
   "outputs": [],
   "source": [
    "screen=pygame.display.set_mode((500,500))\n",
    "pygame.display.set_caption(\"Pong\")"
   ]
  },
  {
   "cell_type": "code",
   "execution_count": 181,
   "id": "c7cc7b3a",
   "metadata": {},
   "outputs": [],
   "source": [
    "#Cordenadas jugador 1\n",
    "x=100\n",
    "y=200\n",
    "speed1=0\n",
    "#Cordenadas jugador 2\n",
    "x2=400\n",
    "y2=200\n",
    "speed2=0\n",
    "\n",
    "#Cordenadas de la pelota\n",
    "x3=250\n",
    "y3=200\n",
    "\n",
    "widht=10\n",
    "height=100\n",
    "white=250,250,250\n",
    "black=0,0,0\n",
    "speed=4\n",
    "clock1=pygame.time.Clock()\n",
    "run=True\n"
   ]
  },
  {
   "cell_type": "code",
   "execution_count": 182,
   "id": "d3b8f3e2",
   "metadata": {},
   "outputs": [],
   "source": [
    "while run:\n",
    "    for event in pygame.event.get():\n",
    "        if event.type==pygame.QUIT:\n",
    "            run=False\n",
    "        elif event.type==pygame.KEYDOWN:\n",
    "            #Jugador 1\n",
    "            if event.key==pygame.K_w:\n",
    "                speed1=-4\n",
    "            elif event.key==pygame.K_s:\n",
    "                speed1=4                        \n",
    "            #Jugador 2\n",
    "            elif event.key==pygame.K_UP:\n",
    "                speed2=-4\n",
    "            elif event.key==pygame.K_DOWN:\n",
    "                speed2=4\n",
    "        elif event.type==pygame.KEYUP:\n",
    "            #Jugador 1\n",
    "            if event.key==pygame.K_w:\n",
    "                speed1=0\n",
    "            elif event.key==pygame.K_s:\n",
    "                speed1=0                           \n",
    "            #Jugador 2\n",
    "            elif event.key==pygame.K_UP:\n",
    "                speed2=0\n",
    "            elif event.key==pygame.K_DOWN:\n",
    "                speed2=0\n",
    "    y+=speed1\n",
    "    y2+=speed2\n",
    "\n",
    "    \n",
    "    screen.fill(black)\n",
    "    jugador1=pygame.draw.rect(screen,white,(x,y,widht,height))\n",
    "    jugador2=pygame.draw.rect(screen,white,(x2,y2,widht,height))\n",
    "    pelota=pygame.draw.circle(screen,white,(x3,y3),20)\n",
    "    pygame.display.update()\n",
    "    clock1.tick((60))"
   ]
  },
  {
   "cell_type": "code",
   "execution_count": 183,
   "id": "94aa0db7",
   "metadata": {},
   "outputs": [],
   "source": [
    "pygame.quit()"
   ]
  }
 ],
 "metadata": {
  "kernelspec": {
   "display_name": "Python 3 (ipykernel)",
   "language": "python",
   "name": "python3"
  },
  "language_info": {
   "codemirror_mode": {
    "name": "ipython",
    "version": 3
   },
   "file_extension": ".py",
   "mimetype": "text/x-python",
   "name": "python",
   "nbconvert_exporter": "python",
   "pygments_lexer": "ipython3",
   "version": "3.10.1"
  },
  "toc": {
   "base_numbering": 1,
   "nav_menu": {},
   "number_sections": true,
   "sideBar": true,
   "skip_h1_title": false,
   "title_cell": "Table of Contents",
   "title_sidebar": "Contents",
   "toc_cell": false,
   "toc_position": {},
   "toc_section_display": true,
   "toc_window_display": false
  }
 },
 "nbformat": 4,
 "nbformat_minor": 5
}
