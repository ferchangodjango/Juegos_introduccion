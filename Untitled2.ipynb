{
 "cells": [
  {
   "cell_type": "code",
   "execution_count": 70,
   "id": "6cf10545",
   "metadata": {},
   "outputs": [],
   "source": [
    "import pygame\n",
    "import random"
   ]
  },
  {
   "cell_type": "code",
   "execution_count": 71,
   "id": "3f159ffa",
   "metadata": {},
   "outputs": [
    {
     "data": {
      "text/plain": [
       "(5, 0)"
      ]
     },
     "execution_count": 71,
     "metadata": {},
     "output_type": "execute_result"
    }
   ],
   "source": [
    "pygame.init()"
   ]
  },
  {
   "cell_type": "code",
   "execution_count": 72,
   "id": "9b454142",
   "metadata": {},
   "outputs": [],
   "source": [
    "x=900\n",
    "y=600\n",
    "screen=pygame.display.set_mode((x,y))\n",
    "pygame.display.set_caption(\"POO\")"
   ]
  },
  {
   "cell_type": "code",
   "execution_count": 73,
   "id": "40227be6",
   "metadata": {},
   "outputs": [],
   "source": [
    "run=True\n",
    "black=0,0,0\n",
    "white=255,255,255\n",
    "gray=246,246,246\n"
   ]
  },
  {
   "cell_type": "code",
   "execution_count": 74,
   "id": "687cc297",
   "metadata": {},
   "outputs": [],
   "source": [
    "#Creación de objetos\n",
    "class Naves(pygame.sprite.Sprite):#Estamos haciendo una clase que hereda (Atributos y metodos) de la clase Sprite\n",
    "    def __init__(self): #Función init, es el constructor inicial\n",
    "        super().__init__() #Se realiza el polimorfismo\n",
    "        self.image=pygame.image.load(\"C:/Users/almarfe002/Documents/GamesPython/Juegos_introduccion/Nave5.png\").convert()\n",
    "        #self.image.transform.scale(self.image,(10,10))\n",
    "        self.image.set_colorkey(gray)\n",
    "        self.rect=self.image.get_rect()"
   ]
  },
  {
   "cell_type": "code",
   "execution_count": 75,
   "id": "0b306e59",
   "metadata": {},
   "outputs": [],
   "source": [
    "Lista_nave=pygame.sprite.Group()\n",
    "Lista_objetos=pygame.sprite.Group()\n",
    "\n",
    "for i in range(50):\n",
    "    nave=Naves()\n",
    "    nave.rect.x=random.randrange(x)\n",
    "    nave.rect.y=random.randrange(y)\n",
    "    Lista_nave.add(nave)\n",
    "    Lista_objetos.add(nave)"
   ]
  },
  {
   "cell_type": "code",
   "execution_count": null,
   "id": "dee02aca",
   "metadata": {},
   "outputs": [],
   "source": []
  },
  {
   "cell_type": "code",
   "execution_count": 76,
   "id": "c17eb31a",
   "metadata": {},
   "outputs": [],
   "source": [
    "while run:\n",
    "    for event in pygame.event.get():\n",
    "        if event.type==pygame.QUIT:\n",
    "            run=False\n",
    "    \n",
    "    screen.fill(white)\n",
    "    Lista_objetos.draw(screen)\n",
    "    \n",
    "    pygame.display.update()\n",
    "    \n",
    "    \n",
    "    "
   ]
  },
  {
   "cell_type": "code",
   "execution_count": 77,
   "id": "975243d9",
   "metadata": {},
   "outputs": [],
   "source": [
    "pygame.quit()\n",
    "\n"
   ]
  },
  {
   "cell_type": "code",
   "execution_count": null,
   "id": "6958ce7f",
   "metadata": {},
   "outputs": [],
   "source": []
  },
  {
   "cell_type": "code",
   "execution_count": null,
   "id": "5f3b44ef",
   "metadata": {},
   "outputs": [],
   "source": []
  }
 ],
 "metadata": {
  "kernelspec": {
   "display_name": "Python 3",
   "language": "python",
   "name": "python3"
  },
  "language_info": {
   "codemirror_mode": {
    "name": "ipython",
    "version": 3
   },
   "file_extension": ".py",
   "mimetype": "text/x-python",
   "name": "python",
   "nbconvert_exporter": "python",
   "pygments_lexer": "ipython3",
   "version": "3.8.8"
  }
 },
 "nbformat": 4,
 "nbformat_minor": 5
}
