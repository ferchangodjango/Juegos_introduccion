{
 "cells": [
  {
   "cell_type": "code",
   "execution_count": 1,
   "id": "673ef0cc",
   "metadata": {},
   "outputs": [
    {
     "name": "stdout",
     "output_type": "stream",
     "text": [
      "pygame 2.5.2 (SDL 2.28.3, Python 3.8.8)\n",
      "Hello from the pygame community. https://www.pygame.org/contribute.html\n"
     ]
    }
   ],
   "source": [
    "import sys, pygame"
   ]
  },
  {
   "cell_type": "code",
   "execution_count": 2,
   "id": "e80984d5",
   "metadata": {},
   "outputs": [
    {
     "data": {
      "text/plain": [
       "(5, 0)"
      ]
     },
     "execution_count": 2,
     "metadata": {},
     "output_type": "execute_result"
    }
   ],
   "source": [
    "#Inicializando el pygame\n",
    "pygame.init()"
   ]
  },
  {
   "cell_type": "code",
   "execution_count": 8,
   "id": "d46ad149",
   "metadata": {},
   "outputs": [],
   "source": [
    "size=width,height=520,540\n",
    "speed=[2,2]#Lista\n",
    "black=0,0,0#RGB"
   ]
  },
  {
   "cell_type": "code",
   "execution_count": 9,
   "id": "551c9da0",
   "metadata": {},
   "outputs": [],
   "source": [
    "screen=pygame.display.set_mode(size)"
   ]
  },
  {
   "cell_type": "code",
   "execution_count": 10,
   "id": "6ef11dd0",
   "metadata": {},
   "outputs": [],
   "source": [
    "ball=pygame.image.load(\"ball.jfif\")"
   ]
  },
  {
   "cell_type": "code",
   "execution_count": 11,
   "id": "216c94ef",
   "metadata": {},
   "outputs": [],
   "source": [
    "ballrect=ball.get_rect()"
   ]
  },
  {
   "cell_type": "code",
   "execution_count": 12,
   "id": "5efc234a",
   "metadata": {},
   "outputs": [
    {
     "ename": "SystemExit",
     "evalue": "",
     "output_type": "error",
     "traceback": [
      "An exception has occurred, use %tb to see the full traceback.\n",
      "\u001b[1;31mSystemExit\u001b[0m\n"
     ]
    }
   ],
   "source": [
    "while True:\n",
    "    for event in pygame.event.get():\n",
    "        if event.type == pygame.QUIT : sys.exit()\n",
    "        ballrect=ballrect.move(speed)\n",
    "        if ballrect.left<0 or ballrect.right>width:\n",
    "            speed[0]=-speed[0]\n",
    "        if ballrect.top<0 or ballrect.bottom>height:\n",
    "            speed[1]=-speed[1]\n",
    "        screen.fill(black)\n",
    "        screen.blit(ball,ballrect)\n",
    "        pygame.display.flip()"
   ]
  },
  {
   "cell_type": "code",
   "execution_count": null,
   "id": "a70d778a",
   "metadata": {},
   "outputs": [],
   "source": []
  },
  {
   "cell_type": "code",
   "execution_count": null,
   "id": "149eb60f",
   "metadata": {},
   "outputs": [],
   "source": []
  }
 ],
 "metadata": {
  "kernelspec": {
   "display_name": "Python 3",
   "language": "python",
   "name": "python3"
  },
  "language_info": {
   "codemirror_mode": {
    "name": "ipython",
    "version": 3
   },
   "file_extension": ".py",
   "mimetype": "text/x-python",
   "name": "python",
   "nbconvert_exporter": "python",
   "pygments_lexer": "ipython3",
   "version": "3.8.8"
  }
 },
 "nbformat": 4,
 "nbformat_minor": 5
}
