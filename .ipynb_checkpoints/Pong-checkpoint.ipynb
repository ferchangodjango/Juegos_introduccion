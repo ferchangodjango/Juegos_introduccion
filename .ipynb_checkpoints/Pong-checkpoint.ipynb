{
 "cells": [
  {
   "cell_type": "code",
   "execution_count": 79,
   "id": "b903a98c",
   "metadata": {},
   "outputs": [],
   "source": [
    "#This is a PONG\n",
    "import pygame\n",
    "import random"
   ]
  },
  {
   "cell_type": "code",
   "execution_count": 80,
   "id": "3aa8a4d1",
   "metadata": {},
   "outputs": [],
   "source": [
    "# Set screen\n",
    "x=900\n",
    "y=600\n",
    "screen=pygame.display.set_mode((x,y))\n",
    "pygame.display.set_caption(\"PONG\")"
   ]
  },
  {
   "cell_type": "code",
   "execution_count": 81,
   "id": "a84bc412",
   "metadata": {},
   "outputs": [],
   "source": [
    "x1=10\n",
    "y1=y/2\n",
    "x2=x-20\n",
    "y2=y/2\n",
    "x3=240\n",
    "y3=240\n",
    "widht=10\n",
    "height=100\n",
    "speed=[3,3]\n",
    "speed_ball=[4,4]\n",
    "run=True\n",
    "black=0,0,0\n",
    "white=255,255,255\n",
    "clock1=pygame.time.Clock()\n",
    "background=pygame.image.load(\"C:/Users/almarfe002/Documents/GamesPython/Juegos_introduccion/night_space.jpg\").convert()"
   ]
  },
  {
   "cell_type": "code",
   "execution_count": 82,
   "id": "4757948b",
   "metadata": {},
   "outputs": [],
   "source": [
    "while run:\n",
    "    for event in pygame.event.get():\n",
    "        if event.type==pygame.QUIT:\n",
    "            run=False\n",
    "        \n",
    "    keys=pygame.key.get_pressed()\n",
    "    if keys[pygame.K_w]:\n",
    "        y1-=speed[0]\n",
    "    elif keys[pygame.K_s]:\n",
    "        y1+=speed[0]\n",
    "        \n",
    "    keys2=pygame.key.get_pressed()\n",
    "    if keys2[pygame.K_UP]:\n",
    "        y2-=speed[1]\n",
    "    elif keys2[pygame.K_DOWN]:\n",
    "        y2+=speed[1]\n",
    "    \n",
    "    x3+=speed_ball[0]\n",
    "    y3+=speed_ball[1]\n",
    "    if x3>x-30:\n",
    "        speed_ball[0]*=-1 \n",
    "    elif x3<0:\n",
    "        speed_ball[0]*=-1\n",
    "    \n",
    "    elif y3>y-30:\n",
    "        speed_ball[1]*=-1\n",
    "    elif y3<0:\n",
    "        speed_ball[1]*=-1\n",
    "    \n",
    "    screen.blit(background,[-100,0])\n",
    "    #Definiendo jugadores\n",
    "    player1=pygame.draw.rect(screen,white,(x1,y1,widht,height))\n",
    "    player2=pygame.draw.rect(screen,white,(x2,y2,widht,height))\n",
    "    pelota=pygame.draw.circle(screen,white,(x3,y3),20)\n",
    "    \n",
    "    #Colisiones\n",
    "    if pelota.colliderect(player1) or pelota.colliderect(player2):\n",
    "        speed_ball[0]*=-1\n",
    "    pygame.display.update()\n",
    "    clock1.tick(60)\n",
    "            "
   ]
  },
  {
   "cell_type": "code",
   "execution_count": 83,
   "id": "8d9b47a5",
   "metadata": {},
   "outputs": [],
   "source": [
    "pygame.quit()"
   ]
  },
  {
   "cell_type": "code",
   "execution_count": null,
   "id": "d128dd7c",
   "metadata": {},
   "outputs": [],
   "source": []
  }
 ],
 "metadata": {
  "kernelspec": {
   "display_name": "Python 3",
   "language": "python",
   "name": "python3"
  },
  "language_info": {
   "codemirror_mode": {
    "name": "ipython",
    "version": 3
   },
   "file_extension": ".py",
   "mimetype": "text/x-python",
   "name": "python",
   "nbconvert_exporter": "python",
   "pygments_lexer": "ipython3",
   "version": "3.8.8"
  }
 },
 "nbformat": 4,
 "nbformat_minor": 5
}
