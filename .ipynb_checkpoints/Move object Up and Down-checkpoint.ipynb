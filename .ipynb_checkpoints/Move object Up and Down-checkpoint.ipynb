{
 "cells": [
  {
   "cell_type": "code",
   "execution_count": 55,
   "id": "1120d816",
   "metadata": {},
   "outputs": [],
   "source": [
    "import pygame"
   ]
  },
  {
   "cell_type": "code",
   "execution_count": 56,
   "id": "fdd93659",
   "metadata": {},
   "outputs": [
    {
     "data": {
      "text/plain": [
       "(5, 0)"
      ]
     },
     "execution_count": 56,
     "metadata": {},
     "output_type": "execute_result"
    }
   ],
   "source": [
    "pygame.init()"
   ]
  },
  {
   "cell_type": "code",
   "execution_count": 57,
   "id": "fb6d46d9",
   "metadata": {},
   "outputs": [],
   "source": [
    "screen=pygame.display.set_mode((500,500))\n",
    "pygame.display.set_caption(\"Rect move up and down\")"
   ]
  },
  {
   "cell_type": "code",
   "execution_count": 58,
   "id": "6b858be6",
   "metadata": {},
   "outputs": [],
   "source": [
    "x=10\n",
    "y=10\n",
    "widht=100\n",
    "height=100\n",
    "speed=0.1\n",
    "run=True\n",
    "color=(0,0,0)"
   ]
  },
  {
   "cell_type": "code",
   "execution_count": 59,
   "id": "fafa53fa",
   "metadata": {},
   "outputs": [],
   "source": [
    "while run:\n",
    "    for event in pygame.event.get():\n",
    "        if event.type==pygame.QUIT:\n",
    "            run=False\n",
    "    keys=pygame.key.get_pressed()\n",
    "    if keys[pygame.K_UP] and y>0:\n",
    "        y-=speed\n",
    "    if keys[pygame.K_DOWN] and y<500-height:\n",
    "        y+=speed\n",
    "    screen.fill(color)\n",
    "    pygame.draw.rect(screen,(255,0,0),(x,y,widht,height))\n",
    "    pygame.display.update()"
   ]
  },
  {
   "cell_type": "code",
   "execution_count": 60,
   "id": "a9da398a",
   "metadata": {},
   "outputs": [],
   "source": [
    "pygame.quit()"
   ]
  },
  {
   "cell_type": "code",
   "execution_count": null,
   "id": "52d84c0d",
   "metadata": {},
   "outputs": [],
   "source": []
  }
 ],
 "metadata": {
  "kernelspec": {
   "display_name": "Python 3",
   "language": "python",
   "name": "python3"
  },
  "language_info": {
   "codemirror_mode": {
    "name": "ipython",
    "version": 3
   },
   "file_extension": ".py",
   "mimetype": "text/x-python",
   "name": "python",
   "nbconvert_exporter": "python",
   "pygments_lexer": "ipython3",
   "version": "3.8.8"
  }
 },
 "nbformat": 4,
 "nbformat_minor": 5
}
