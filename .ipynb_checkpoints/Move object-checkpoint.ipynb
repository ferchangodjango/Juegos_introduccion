{
 "cells": [
  {
   "cell_type": "code",
   "execution_count": 26,
   "id": "d8be4738",
   "metadata": {},
   "outputs": [],
   "source": [
    "#Importando paqueteria \n",
    "import pygame"
   ]
  },
  {
   "cell_type": "code",
   "execution_count": 27,
   "id": "07811bdb",
   "metadata": {},
   "outputs": [
    {
     "data": {
      "text/plain": [
       "(5, 0)"
      ]
     },
     "execution_count": 27,
     "metadata": {},
     "output_type": "execute_result"
    }
   ],
   "source": [
    "pygame.init()"
   ]
  },
  {
   "cell_type": "code",
   "execution_count": 30,
   "id": "e1c62ee7",
   "metadata": {},
   "outputs": [],
   "source": [
    "screen=pygame.display.set_mode((500,500))\n",
    "pygame.display.set_caption(\"Rect move\")"
   ]
  },
  {
   "cell_type": "code",
   "execution_count": 38,
   "id": "b4ed9585",
   "metadata": {},
   "outputs": [],
   "source": [
    "x=10\n",
    "y=10\n",
    "\n",
    "widht=50\n",
    "height=50\n",
    "vel=0.1\n",
    "run=True\n",
    "color=(0,0,0)\n"
   ]
  },
  {
   "cell_type": "code",
   "execution_count": 40,
   "id": "0088b7f1",
   "metadata": {},
   "outputs": [],
   "source": [
    "while run:\n",
    "    for event in pygame.event.get():\n",
    "        if event.type==pygame.QUIT:\n",
    "            run=False\n",
    "    keys=pygame.key.get_pressed()\n",
    "        \n",
    "    if keys[pygame.K_LEFT] and x>0:\n",
    "        x-=vel\n",
    "    if keys[pygame.K_RIGHT] and x<500-widht:\n",
    "        x+=vel\n",
    "    screen.fill(color)\n",
    "    pygame.draw.rect(screen,(255,0,0),(x,y,widht,height))\n",
    "    \n",
    "    pygame.display.update()\n",
    "        "
   ]
  },
  {
   "cell_type": "code",
   "execution_count": 41,
   "id": "7662b013",
   "metadata": {},
   "outputs": [],
   "source": [
    "pygame.quit()"
   ]
  },
  {
   "cell_type": "code",
   "execution_count": null,
   "id": "4e46ff93",
   "metadata": {},
   "outputs": [],
   "source": []
  }
 ],
 "metadata": {
  "kernelspec": {
   "display_name": "Python 3",
   "language": "python",
   "name": "python3"
  },
  "language_info": {
   "codemirror_mode": {
    "name": "ipython",
    "version": 3
   },
   "file_extension": ".py",
   "mimetype": "text/x-python",
   "name": "python",
   "nbconvert_exporter": "python",
   "pygments_lexer": "ipython3",
   "version": "3.8.8"
  }
 },
 "nbformat": 4,
 "nbformat_minor": 5
}
