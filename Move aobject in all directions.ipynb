{
 "cells": [
  {
   "cell_type": "code",
   "execution_count": 18,
   "id": "43e2eff2",
   "metadata": {},
   "outputs": [],
   "source": [
    "import pygame"
   ]
  },
  {
   "cell_type": "code",
   "execution_count": 22,
   "id": "1693c527",
   "metadata": {},
   "outputs": [
    {
     "data": {
      "text/plain": [
       "(5, 0)"
      ]
     },
     "execution_count": 22,
     "metadata": {},
     "output_type": "execute_result"
    }
   ],
   "source": [
    "pygame.init()"
   ]
  },
  {
   "cell_type": "code",
   "execution_count": 23,
   "id": "dd9baead",
   "metadata": {},
   "outputs": [],
   "source": [
    "screen=pygame.display.set_mode((500,500))\n",
    "pygame.display.set_caption(\"rect move all direction\")"
   ]
  },
  {
   "cell_type": "code",
   "execution_count": 24,
   "id": "b4ced654",
   "metadata": {},
   "outputs": [],
   "source": [
    "x=10\n",
    "y=10\n",
    "widht=50\n",
    "height=50\n",
    "speed=1\n",
    "run=True\n",
    "color=(0,0,0)\n"
   ]
  },
  {
   "cell_type": "code",
   "execution_count": null,
   "id": "4de0f519",
   "metadata": {},
   "outputs": [],
   "source": [
    "while run:\n",
    "    for event in pygame.event.get():\n",
    "        if event.type==pygame.QUIT:\n",
    "            \n",
    "             run=False\n",
    "            \n",
    "        keys=pygame.key.get_pressed()\n",
    "        \n",
    "        if keys[pygame.K_LEFT] and x>0:\n",
    "            x-=speed\n",
    "        if keys[pygame.K_RIGHT] and x<500-widht :\n",
    "            x+=speed\n",
    "        if keys[pygame.K_UP] and y>0:\n",
    "            y-=speed\n",
    "        if keys[pygame.K_DOWN] and y<500-height:\n",
    "            y+=speed\n",
    "        screen.fill(color)\n",
    "        pygame.draw.rect(screen,(255,0,0),(x,y,widht,height))\n",
    "        pygame.display.update()"
   ]
  },
  {
   "cell_type": "code",
   "execution_count": null,
   "id": "d91576b5",
   "metadata": {},
   "outputs": [],
   "source": [
    "pygame.quit()"
   ]
  },
  {
   "cell_type": "code",
   "execution_count": null,
   "id": "7262585a",
   "metadata": {},
   "outputs": [],
   "source": []
  }
 ],
 "metadata": {
  "kernelspec": {
   "display_name": "Python 3",
   "language": "python",
   "name": "python3"
  },
  "language_info": {
   "codemirror_mode": {
    "name": "ipython",
    "version": 3
   },
   "file_extension": ".py",
   "mimetype": "text/x-python",
   "name": "python",
   "nbconvert_exporter": "python",
   "pygments_lexer": "ipython3",
   "version": "3.8.8"
  }
 },
 "nbformat": 4,
 "nbformat_minor": 5
}
