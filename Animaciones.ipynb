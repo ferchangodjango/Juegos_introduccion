{
 "cells": [
  {
   "cell_type": "code",
   "execution_count": 34,
   "id": "c2ed0b80",
   "metadata": {},
   "outputs": [],
   "source": [
    "import pygame\n",
    "import random"
   ]
  },
  {
   "cell_type": "code",
   "execution_count": 35,
   "id": "8eb99233",
   "metadata": {
    "scrolled": true
   },
   "outputs": [
    {
     "data": {
      "text/plain": [
       "(5, 0)"
      ]
     },
     "execution_count": 35,
     "metadata": {},
     "output_type": "execute_result"
    }
   ],
   "source": [
    "pygame.init()"
   ]
  },
  {
   "cell_type": "code",
   "execution_count": 36,
   "id": "0135ecea",
   "metadata": {},
   "outputs": [],
   "source": [
    "x=250\n",
    "y=250\n",
    "widht=50\n",
    "height=50\n",
    "speed=[0.1,0.1]\n",
    "run=True\n",
    "black=(0,0,0)\n",
    "white=(255,255,255)\n",
    "clock1=pygame.time.Clock()"
   ]
  },
  {
   "cell_type": "code",
   "execution_count": 37,
   "id": "678155e8",
   "metadata": {},
   "outputs": [],
   "source": [
    "lista_cordenadas_x=[]\n",
    "lista_cordenadas_y=[]\n",
    "for i in range(60):\n",
    "        x=random.randint(0,500)\n",
    "        y=random.randint(0,500)\n",
    "        lista_cordenadas_x.append(x)\n",
    "        lista_cordenadas_y.append(y)\n",
    "        "
   ]
  },
  {
   "cell_type": "code",
   "execution_count": 38,
   "id": "f838b9ae",
   "metadata": {},
   "outputs": [],
   "source": [
    "screen=pygame.display.set_mode((500,500))\n",
    "pygame.display.set_caption(\"Primer juego\")\n",
    "while run:\n",
    "    for event in pygame.event.get():\n",
    "        if event.type==pygame.QUIT:\n",
    "            run=False\n",
    "    \n",
    "    screen.fill(black)\n",
    "    for i in range(60):\n",
    "        x=lista_cordenadas_x[i]\n",
    "        y=lista_cordenadas_y[i]\n",
    "        pygame.draw.circle(screen,white,(x,y),2)\n",
    "        lista_cordenadas_y[i]+=1\n",
    "        if lista_cordenadas_y[i]>500:\n",
    "            lista_cordenadas_y[i]=0\n",
    "    \n",
    "    pygame.display.update()\n",
    "    clock1.tick(20)"
   ]
  },
  {
   "cell_type": "code",
   "execution_count": 39,
   "id": "928237b0",
   "metadata": {},
   "outputs": [],
   "source": [
    "pygame.quit()"
   ]
  },
  {
   "cell_type": "code",
   "execution_count": null,
   "id": "493e280d",
   "metadata": {},
   "outputs": [],
   "source": []
  }
 ],
 "metadata": {
  "kernelspec": {
   "display_name": "Python 3",
   "language": "python",
   "name": "python3"
  },
  "language_info": {
   "codemirror_mode": {
    "name": "ipython",
    "version": 3
   },
   "file_extension": ".py",
   "mimetype": "text/x-python",
   "name": "python",
   "nbconvert_exporter": "python",
   "pygments_lexer": "ipython3",
   "version": "3.8.8"
  },
  "toc": {
   "base_numbering": 1,
   "nav_menu": {},
   "number_sections": true,
   "sideBar": true,
   "skip_h1_title": false,
   "title_cell": "Table of Contents",
   "title_sidebar": "Contents",
   "toc_cell": false,
   "toc_position": {},
   "toc_section_display": true,
   "toc_window_display": false
  }
 },
 "nbformat": 4,
 "nbformat_minor": 5
}
