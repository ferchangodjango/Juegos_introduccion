{
 "cells": [
  {
   "cell_type": "code",
   "execution_count": 56,
   "id": "9da1ac26",
   "metadata": {},
   "outputs": [],
   "source": [
    "import pygame\n",
    "import random"
   ]
  },
  {
   "cell_type": "code",
   "execution_count": 57,
   "id": "f02608f7",
   "metadata": {},
   "outputs": [],
   "source": [
    "screen=pygame.display.set_mode((500,500))\n",
    "pygame.display.set_caption(\"Moviendo objetos\")"
   ]
  },
  {
   "cell_type": "code",
   "execution_count": 58,
   "id": "68bd29ba",
   "metadata": {},
   "outputs": [],
   "source": [
    "x=10\n",
    "y=10\n",
    "width=100\n",
    "height=100\n",
    "black=0,0,0\n",
    "white=250,250,250\n",
    "speed=0.5\n",
    "clock1=pygame.time.Clock()\n",
    "run=True"
   ]
  },
  {
   "cell_type": "code",
   "execution_count": 59,
   "id": "5ec8f8d7",
   "metadata": {},
   "outputs": [],
   "source": [
    "while run:\n",
    "    for event in pygame.event.get():\n",
    "        if event.type==pygame.QUIT:\n",
    "            run=False\n",
    "            \n",
    "    keys=pygame.key.get_pressed()\n",
    "    if keys[pygame.K_LEFT] and x>0:\n",
    "        x-=speed\n",
    "    elif keys[pygame.K_RIGHT] and x<500-width:\n",
    "        x+=speed\n",
    "    elif keys[pygame.K_UP] and y>0:\n",
    "        y-=speed\n",
    "    elif keys[pygame.K_DOWN] and y<500-height:\n",
    "        y+=speed\n",
    "            \n",
    "    screen.fill(black)\n",
    "    pygame.draw.rect(screen,white,(x,y,width,height))\n",
    "    pygame.display.update()"
   ]
  },
  {
   "cell_type": "code",
   "execution_count": 60,
   "id": "82ad6bdb",
   "metadata": {},
   "outputs": [],
   "source": [
    "pygame.quit()"
   ]
  },
  {
   "cell_type": "code",
   "execution_count": null,
   "id": "b3df7ae5",
   "metadata": {},
   "outputs": [],
   "source": []
  },
  {
   "cell_type": "code",
   "execution_count": null,
   "id": "63af7d4d",
   "metadata": {},
   "outputs": [],
   "source": []
  },
  {
   "cell_type": "code",
   "execution_count": null,
   "id": "c480d5e3",
   "metadata": {},
   "outputs": [],
   "source": []
  },
  {
   "cell_type": "code",
   "execution_count": null,
   "id": "3928bc0b",
   "metadata": {},
   "outputs": [],
   "source": []
  },
  {
   "cell_type": "code",
   "execution_count": null,
   "id": "ae586886",
   "metadata": {},
   "outputs": [],
   "source": []
  }
 ],
 "metadata": {
  "kernelspec": {
   "display_name": "Python 3 (ipykernel)",
   "language": "python",
   "name": "python3"
  },
  "language_info": {
   "codemirror_mode": {
    "name": "ipython",
    "version": 3
   },
   "file_extension": ".py",
   "mimetype": "text/x-python",
   "name": "python",
   "nbconvert_exporter": "python",
   "pygments_lexer": "ipython3",
   "version": "3.10.1"
  },
  "toc": {
   "base_numbering": 1,
   "nav_menu": {},
   "number_sections": true,
   "sideBar": true,
   "skip_h1_title": false,
   "title_cell": "Table of Contents",
   "title_sidebar": "Contents",
   "toc_cell": false,
   "toc_position": {},
   "toc_section_display": true,
   "toc_window_display": false
  }
 },
 "nbformat": 4,
 "nbformat_minor": 5
}
